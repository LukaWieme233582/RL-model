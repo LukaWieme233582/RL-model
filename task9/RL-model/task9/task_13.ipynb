{
 "cells": [
  {
   "cell_type": "code",
   "execution_count": 75,
   "metadata": {},
   "outputs": [
    {
     "ename": "ModuleNotFoundError",
     "evalue": "No module named 'pybullet'",
     "output_type": "error",
     "traceback": [
      "\u001b[1;31m---------------------------------------------------------------------------\u001b[0m",
      "\u001b[1;31mModuleNotFoundError\u001b[0m                       Traceback (most recent call last)",
      "Cell \u001b[1;32mIn[75], line 7\u001b[0m\n\u001b[0;32m      5\u001b[0m \u001b[38;5;28;01mfrom\u001b[39;00m\u001b[38;5;250m \u001b[39m\u001b[38;5;21;01mskimage\u001b[39;00m\u001b[38;5;21;01m.\u001b[39;00m\u001b[38;5;21;01mio\u001b[39;00m\u001b[38;5;250m \u001b[39m\u001b[38;5;28;01mimport\u001b[39;00m imread\n\u001b[0;32m      6\u001b[0m \u001b[38;5;28;01mimport\u001b[39;00m\u001b[38;5;250m \u001b[39m\u001b[38;5;21;01mcsv\u001b[39;00m\n\u001b[1;32m----> 7\u001b[0m \u001b[38;5;28;01mfrom\u001b[39;00m\u001b[38;5;250m \u001b[39m\u001b[38;5;21;01msim_class\u001b[39;00m\u001b[38;5;250m \u001b[39m\u001b[38;5;28;01mimport\u001b[39;00m Simulation\n",
      "File \u001b[1;32mc:\\Users\\Beheerder\\Documents\\GitHub\\2024-25b-fai2-adsai-LukaWieme233582\\datalab_tasks\\task9\\sim_class.py:1\u001b[0m\n\u001b[1;32m----> 1\u001b[0m \u001b[38;5;28;01mimport\u001b[39;00m\u001b[38;5;250m \u001b[39m\u001b[38;5;21;01mpybullet\u001b[39;00m\u001b[38;5;250m \u001b[39m\u001b[38;5;28;01mas\u001b[39;00m\u001b[38;5;250m \u001b[39m\u001b[38;5;21;01mp\u001b[39;00m\n\u001b[0;32m      2\u001b[0m \u001b[38;5;28;01mimport\u001b[39;00m\u001b[38;5;250m \u001b[39m\u001b[38;5;21;01mtime\u001b[39;00m\n\u001b[0;32m      3\u001b[0m \u001b[38;5;28;01mimport\u001b[39;00m\u001b[38;5;250m \u001b[39m\u001b[38;5;21;01mpybullet_data\u001b[39;00m\n",
      "\u001b[1;31mModuleNotFoundError\u001b[0m: No module named 'pybullet'"
     ]
    }
   ],
   "source": [
    "import os\n",
    "import numpy as np\n",
    "import matplotlib.pyplot as plt\n",
    "from skimage.measure import label, regionprops\n",
    "from skimage.io import imread\n",
    "import csv\n",
    "from sim_class import Simulation"
   ]
  },
  {
   "cell_type": "code",
   "execution_count": 73,
   "metadata": {},
   "outputs": [],
   "source": [
    "input_dir = \"C:/Users/Beheerder/Documents/GitHub/2024-25b-fai2-adsai-LukaWieme233582/datalab_tasks/Datasets/cropped_predicted_masks\"\n",
    "csv_path = 'root_tip.csv'\n",
    "image_name = 'predicted_mask_test_image_9.png'"
   ]
  },
  {
   "cell_type": "code",
   "execution_count": 68,
   "metadata": {},
   "outputs": [],
   "source": [
    "# Function to extract root tips from CSV\n",
    "def extract_root_tips(csv_path, image_name):\n",
    "    root_tips = []\n",
    "    \n",
    "    # Read the CSV file\n",
    "    with open(csv_path, mode='r') as csvfile:\n",
    "        reader = csv.DictReader(csvfile)\n",
    "        \n",
    "        # Iterate over each row in the CSV\n",
    "        for row in reader:\n",
    "            # Check if the image name matches\n",
    "            if row['Image Name'] == image_name:\n",
    "                # Extract the root tip coordinates\n",
    "                root_tip_x = row['Root Tip X']\n",
    "                root_tip_y = row['Root Tip Y']\n",
    "                \n",
    "                # Print row for debugging purposes\n",
    "                print(f\"Processing row: Image Name: {row['Image Name']}, Root Tip X: {root_tip_x}, Root Tip Y: {root_tip_y}\")\n",
    "                \n",
    "                # Convert to float (or NaN if missing)\n",
    "                try:\n",
    "                    root_tip_x = float(root_tip_x)\n",
    "                    root_tip_y = float(root_tip_y)\n",
    "                    root_tips.append((root_tip_x, root_tip_y))\n",
    "                except ValueError:\n",
    "                    root_tips.append((float('nan'), float('nan')))  # For missing data (NaN)\n",
    "    \n",
    "    return root_tips\n",
    "\n",
    "\n",
    "# Function to convert root tip pixel coordinates to robot coordinates\n",
    "def convert_to_robot_coordinates(root_tip_pixel, plate_size_mm, plate_size_pixels, plate_position_robot):\n",
    "    conversion_factor = plate_size_mm / plate_size_pixels  # Conversion factor from pixel to mm\n",
    "    root_tip_mm = np.array(root_tip_pixel) * conversion_factor  # Convert pixel to mm\n",
    "    \n",
    "    # Adjust robot coordinates by adding the X, Y, and Z from plate_position_robot\n",
    "    root_tip_robot = np.append(root_tip_mm, plate_position_robot[2])  # Add Z-coordinate to the result\n",
    "    return root_tip_robot"
   ]
  },
  {
   "cell_type": "code",
   "execution_count": 69,
   "metadata": {},
   "outputs": [
    {
     "name": "stdout",
     "output_type": "stream",
     "text": [
      "Processing row: Image Name: predicted_mask_test_image_9.png, Root Tip X: 459, Root Tip Y: 1109\n",
      "Processing row: Image Name: predicted_mask_test_image_9.png, Root Tip X: 932, Root Tip Y: 1054\n",
      "Processing row: Image Name: predicted_mask_test_image_9.png, Root Tip X: 1479, Root Tip Y: 1185\n",
      "Processing row: Image Name: predicted_mask_test_image_9.png, Root Tip X: 2077, Root Tip Y: 965\n",
      "Processing row: Image Name: predicted_mask_test_image_9.png, Root Tip X: 2583, Root Tip Y: 1159\n",
      "Root 1: X = 23.45027247956403, Y = 56.65871934604905, Z = 0.057\n",
      "Root 2: X = 47.61580381471389, Y = 53.84877384196185, Z = 0.057\n",
      "Root 3: X = 75.56198910081744, Y = 60.54155313351498, Z = 0.057\n",
      "Root 4: X = 106.11376021798365, Y = 49.30177111716621, Z = 0.057\n",
      "Root 5: X = 131.96525885558583, Y = 59.213215258855584, Z = 0.057\n"
     ]
    }
   ],
   "source": [
    "# Plate size in mm and pixels\n",
    "plate_size_mm = 150  # Plate size in mm\n",
    "plate_size_pixels = 2936  # Plate size in pixels\n",
    "plate_position_robot = np.array([0.10775, 0.062, 0.057])\n",
    "# Extract root tips for the image\n",
    "root_tips = extract_root_tips(csv_path, image_name)\n",
    "\n",
    "# Convert each root tip to robot coordinates and print the result\n",
    "for i, (root_x, root_y) in enumerate(root_tips, start=1):\n",
    "    if not np.isnan(root_x) and not np.isnan(root_y):\n",
    "        # Convert to robot coordinates if root tip exists (not NaN)\n",
    "        root_tip_robot = convert_to_robot_coordinates((root_x, root_y), plate_size_mm, plate_size_pixels, plate_position_robot)\n",
    "        print(f\"Root {i}: X = {root_tip_robot[0]}, Y = {root_tip_robot[1]}, Z = {root_tip_robot[2]}\")\n",
    "    else:\n",
    "        print(f\"Root {i}: Missing data, cannot convert.\")"
   ]
  }
 ],
 "metadata": {
  "kernelspec": {
   "display_name": "tensorflow_2.15.0",
   "language": "python",
   "name": "python3"
  },
  "language_info": {
   "codemirror_mode": {
    "name": "ipython",
    "version": 3
   },
   "file_extension": ".py",
   "mimetype": "text/x-python",
   "name": "python",
   "nbconvert_exporter": "python",
   "pygments_lexer": "ipython3",
   "version": "3.10.16"
  }
 },
 "nbformat": 4,
 "nbformat_minor": 2
}
